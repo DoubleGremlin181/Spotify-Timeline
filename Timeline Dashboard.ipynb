{
 "cells": [
  {
   "cell_type": "markdown",
   "id": "f64014e8-94c5-4bc0-b96c-4ccfd6421f28",
   "metadata": {},
   "source": [
    "# Spotify \"Your Top Songs\" Timeline"
   ]
  },
  {
   "cell_type": "markdown",
   "id": "dc4e720c-4c9b-4378-a498-029e48010ab0",
   "metadata": {},
   "source": [
    "#### By [Kavish Hukmani](https://kavishhukmani.me/)"
   ]
  },
  {
   "cell_type": "markdown",
   "id": "875be060-fe59-49bb-8aea-2377a52fdc0f",
   "metadata": {},
   "source": [
    "-----"
   ]
  },
  {
   "cell_type": "markdown",
   "id": "2b8c33be",
   "metadata": {},
   "source": [
    "**Instructions:** Click on the ⏩ button above and confirm"
   ]
  },
  {
   "cell_type": "markdown",
   "id": "fe9e49de",
   "metadata": {},
   "source": [
    "-----"
   ]
  },
  {
   "cell_type": "code",
   "execution_count": null,
   "id": "53fd65a8",
   "metadata": {
    "tags": []
   },
   "outputs": [],
   "source": [
    "import os\n",
    "from collections import Counter\n",
    "\n",
    "import pandas as pd\n",
    "\n",
    "import plotly.graph_objects as go\n",
    "import plotly.express as px\n",
    "from ipywidgets import widgets\n",
    "\n",
    "from sklearn.preprocessing import MultiLabelBinarizer\n",
    "\n",
    "import spotipy\n",
    "from spotipy.oauth2 import  SpotifyPKCE\n",
    "from spotipy.cache_handler import MemoryCacheHandler"
   ]
  },
  {
   "cell_type": "code",
   "execution_count": null,
   "id": "c1613d41-62c4-40c3-8450-bef9e7c6bb7a",
   "metadata": {},
   "outputs": [],
   "source": [
    "SPOTIPY_CLIENT_ID=\"c1928ac0b8ff4ab7a53fa8bf4bc0dabf\" # In plain text for binder to play nicely\n",
    "\n",
    "SPOTIPY_REDIRECT_URI=\"http://127.0.0.1:9090\""
   ]
  },
  {
   "cell_type": "code",
   "execution_count": null,
   "id": "dca5c7f4-1bed-4467-876d-ebabe673d5e8",
   "metadata": {},
   "outputs": [],
   "source": [
    "sp = spotipy.Spotify(auth_manager= SpotifyPKCE(client_id=SPOTIPY_CLIENT_ID, redirect_uri=SPOTIPY_REDIRECT_URI, scope=['playlist-read-private'], open_browser=False, cache_handler=MemoryCacheHandler()))"
   ]
  },
  {
   "cell_type": "code",
   "execution_count": null,
   "id": "665bd544-430b-406c-803c-73859ca1ead1",
   "metadata": {},
   "outputs": [],
   "source": [
    "response = sp.current_user_playlists()\n",
    "\n",
    "playlists = []\n",
    "for item in response['items']:\n",
    "    if item['name'].startswith(\"Your Top Songs\") and item['owner']['display_name'] == \"Spotify\":\n",
    "        playlists.append({\n",
    "            \"playlist_year\": item[\"name\"][-4:],\n",
    "            \"playlist_name\": item[\"name\"],\n",
    "            \"playlist_id\": item[\"id\"]\n",
    "        })\n",
    "        \n",
    "playlists = pd.DataFrame(playlists)\n",
    "playlists = playlists.sort_values(\"playlist_year\", ignore_index=True)\n",
    "\n",
    "# playlists"
   ]
  },
  {
   "cell_type": "code",
   "execution_count": null,
   "id": "9faeae37-3943-4ae0-8ad5-fb52b5083aa4",
   "metadata": {},
   "outputs": [],
   "source": [
    "tracks = []\n",
    "for idx, row in playlists.iterrows():\n",
    "    # print(f\"Extracting {row['playlist_name']}...\")\n",
    "    response = sp.playlist(row[\"playlist_id\"])\n",
    "    \n",
    "    for item in response['tracks']['items']:\n",
    "        tracks.append({\n",
    "            \"name\": item['track']['name'],\n",
    "            \"artists\": [i['name'] for i in item['track']['artists']],\n",
    "            \"album\": item['track']['album']['name'],\n",
    "            \"release_year\": item['track']['album']['release_date'][:4],\n",
    "            \"duration\": item['track']['duration_ms']/1000,\n",
    "            \"track_id\": item['track']['id'],\n",
    "            \"artist_id\": [i['id'] for i in item['track']['artists']],\n",
    "            \"album_id\": item['track']['album']['id'],\n",
    "            \"playlist_year\": row[\"playlist_year\"],\n",
    "            \"playlist_name\": row[\"playlist_name\"]\n",
    "        })\n",
    "        \n",
    "tracks = pd.DataFrame(tracks)\n",
    "tracks['my_id'] = tracks['name'] + \"--\" + tracks['artists'].apply(', '.join) + \"--\" + tracks['album']\n",
    "# tracks.head()"
   ]
  },
  {
   "cell_type": "code",
   "execution_count": null,
   "id": "df65fa07-c4f2-4c11-b45c-35b701f81502",
   "metadata": {
    "tags": []
   },
   "outputs": [],
   "source": [
    "fig = px.violin(tracks, x=\"playlist_year\", y=\"duration\", color=\"playlist_year\", box=True, points=\"all\",\n",
    "                hover_data=['name','artists','album','duration'],template='plotly_white',\n",
    "                labels={\n",
    "                    \"playlist_year\": \"Year\",\n",
    "                    \"duration\": \"Song Length (secs)\",\n",
    "                    \"name\": \"Title\",\n",
    "                    \"artists\": \"Artist(s)\",\n",
    "                    \"album\": \"Album\"\n",
    "                 },\n",
    "                title=\"Song Length Across Years\",\n",
    "                height=600)\n",
    "\n",
    "fig.show()"
   ]
  },
  {
   "cell_type": "code",
   "execution_count": null,
   "id": "4f2a120d-8897-4e40-bce1-d15d560279c6",
   "metadata": {},
   "outputs": [],
   "source": [
    "color_map = {i['name']: i['marker']['color'] for i in fig['data']}"
   ]
  },
  {
   "cell_type": "code",
   "execution_count": null,
   "id": "8686bb31-343c-40fd-8c84-f2e6bdeafdc1",
   "metadata": {},
   "outputs": [],
   "source": [
    "temp = tracks.groupby('my_id').playlist_year.apply(list).reset_index()\n",
    "temp = temp.merge(tracks.drop(['playlist_year', 'playlist_name'],axis=1), on='my_id', how='left')\n",
    "\n",
    "mlb = MultiLabelBinarizer()\n",
    "\n",
    "tracks_encoded = pd.concat([temp,pd.DataFrame(mlb.fit_transform(temp['playlist_year']),columns=mlb.classes_, index=temp.index)], axis=1)\n",
    "tracks_encoded = tracks_encoded.drop_duplicates('my_id').reset_index(drop=True)\n",
    "tracks_encoded = tracks_encoded.drop('playlist_year',axis=1)\n",
    "\n",
    "years = list(mlb.classes_)\n",
    "\n",
    "tracks_encoded[\"occurances\"] = tracks_encoded[years].sum(axis=1)\n",
    "\n",
    "# tracks_encoded.head()"
   ]
  },
  {
   "cell_type": "code",
   "execution_count": null,
   "id": "075769f7-a7ce-4a8a-a016-4ffdf345f3af",
   "metadata": {},
   "outputs": [],
   "source": [
    "title_label = widgets.HTML(value=\"<b>Song Churn Across Years</b>\")\n",
    "\n",
    "year_filter = widgets.Dropdown(\n",
    "    options=years,\n",
    "    value=years[-1],\n",
    "    description='Year:',\n",
    ")\n",
    "\n",
    "dims = []\n",
    "for year in years:\n",
    "    dims.append(go.parcats.Dimension(\n",
    "        values=tracks_encoded[year], \n",
    "        label=year, categoryarray=[1, 0], \n",
    "        ticktext=['Top 100 🕪', '🔇']\n",
    "    ))\n",
    "\n",
    "# Create parcats trace\n",
    "color = tracks_encoded[years[-1]]\n",
    "colorscale = [[0, 'lightsteelblue'], [1, color_map[years[-1]]]]\n",
    "\n",
    "g1 = go.FigureWidget(data = [go.Parcats(dimensions=dims,\n",
    "        line={'color': color, 'colorscale': colorscale},\n",
    "        hoveron='color', hoverinfo='skip',\n",
    "        arrangement='freeform')],\n",
    "                     layout = go.Layout(title=f'{years[-1]} Song Occurance Flow'))\n",
    "\n",
    "\n",
    "temp = tracks_encoded[(tracks_encoded[years[-1]] == 1)&(tracks_encoded['occurances']>1)]\n",
    "temp = temp.sort_values(['occurances']+years[::-1], ascending=False)\n",
    "temp = temp[['name','artists','album']+years]\n",
    "temp['artists'] = temp['artists'].str.join(', ')\n",
    "\n",
    "header_values=['<b>Title</b>', '<b>Artist(s)</b>', '<b>Album</b>'] + [f'<b>{i}</b>' for i in years]\n",
    "color_values = [[\"#EBF0F8\"]*len(temp), [\"#EBF0F8\"]*len(temp), [\"#EBF0F8\"]*len(temp)] + [[\"#EBF0F8\" if j == 0 else color_map[i] for j in temp[i]] for i in years]\n",
    "temp[years] = temp[years].applymap({1:'Top 100 🕪', 0:'🔇'}.get)\n",
    "cell_values=[temp[i] for i in temp.columns]\n",
    "\n",
    "g2 = go.FigureWidget(data=[go.Table(\n",
    "    header=dict(\n",
    "        values=header_values,\n",
    "        line_color='white', fill_color='white',\n",
    "        align='center',font=dict(color='black', size=12)),\n",
    "    cells=dict(\n",
    "        values=cell_values,\n",
    "        fill_color=color_values))],\n",
    "                    layout=go.Layout(height=1000, title=f'{years[-1]} Songs Details'))\n",
    "\n",
    "def response(change):\n",
    "    with g1.batch_update():\n",
    "        color = tracks_encoded[year_filter.value];\n",
    "        colorscale = [[0, 'lightsteelblue'], [1, color_map[year_filter.value]]]\n",
    "        g1.data[0].line.color = color\n",
    "        g1.data[0].line.colorscale = colorscale\n",
    "        g1.layout.title.text = f'{year_filter.value} Song Occurance Flow'\n",
    "        \n",
    "    with g2.batch_update():\n",
    "        temp = tracks_encoded[(tracks_encoded[year_filter.value] == 1)&(tracks_encoded['occurances']>1)]\n",
    "        temp = temp.sort_values(['occurances']+years[::-1], ascending=False)\n",
    "        temp = temp[['name','artists','album']+years]\n",
    "        temp['artists'] = temp['artists'].str.join(', ')\n",
    "\n",
    "        color_values = [[\"#EBF0F8\"]*len(temp), [\"#EBF0F8\"]*len(temp), [\"#EBF0F8\"]*len(temp)] + [[\"#EBF0F8\" if j == 0 else color_map[i] for j in temp[i]] for i in years]\n",
    "        temp[years] = temp[years].applymap({1:'Top 100 🕪', 0:'🔇'}.get)\n",
    "        cell_values=[temp[i] for i in temp.columns]\n",
    "        \n",
    "        g2.data[0].cells.values = cell_values\n",
    "        g2.data[0].cells.fill.color = color_values\n",
    "        g2.layout.title.text = f'{year_filter.value} Song Occurance Flow'\n",
    "\n",
    "year_filter.observe(response, names=\"value\")\n",
    "container = widgets.HBox([title_label, year_filter])\n",
    "widgets.VBox([container,g1, g2])"
   ]
  },
  {
   "cell_type": "code",
   "execution_count": null,
   "id": "ba6be1e7-4a14-4698-930e-e2f126ba07c7",
   "metadata": {},
   "outputs": [],
   "source": [
    "artists = list(set([j for i in tracks_encoded.artists.to_list() for j in i]))\n",
    "\n",
    "artist_presence = []\n",
    "for artist in artists:\n",
    "    temp = (tracks_encoded.loc[tracks_encoded['artists'].apply(lambda x: artist in x), years]).sum().to_dict()\n",
    "    temp[\"artist\"] = artist\n",
    "    artist_presence.append(temp)\n",
    "    \n",
    "artist_presence = pd.DataFrame(artist_presence)\n",
    "artist_presence['occurances'] = artist_presence[years].sum(axis=1)\n",
    "artist_presence = artist_presence.sort_values('occurances', ascending=False)\n",
    "\n",
    "fig = px.imshow(artist_presence[years].head(10).values.tolist(),\n",
    "                labels=dict(x=\"Year\", y=\"Artist\", color=\"Occurances\"),\n",
    "                x=years,\n",
    "                y=artist_presence.artist.to_list()[:10],\n",
    "                height=800,\n",
    "                title=\"Presence Of Your Top 10 Artists\")\n",
    "fig.update_xaxes(side=\"top\")\n",
    "fig.show()"
   ]
  },
  {
   "cell_type": "code",
   "execution_count": null,
   "id": "c25c2f79-e07f-4019-a39d-6de8b3d8a75b",
   "metadata": {},
   "outputs": [],
   "source": [
    "artist_ids = list(set([j for i in tracks_encoded.artist_id.to_list() for j in i]))\n",
    "\n",
    "artist_genres = {}\n",
    "for i in range(0, len(artist_ids), 50):\n",
    "    response = sp.artists(artist_ids[i:i+50])\n",
    "    for item in response['artists']:\n",
    "        artist_genres[item['name']] = item['genres']\n",
    "\n",
    "\n",
    "artist_presence['genres'] = artist_presence['artist'].map(artist_genres)\n",
    "\n",
    "genre_year_counter = {year:[] for year in years}\n",
    "\n",
    "for idx, row in artist_presence.iterrows():\n",
    "    for year in years:\n",
    "        genre_year_counter[year] = genre_year_counter[year] + (row['genres']*row[year])\n",
    "        \n",
    "genre_year_counter = {k:Counter(v) for k,v in genre_year_counter.items()}\n",
    "\n",
    "genre_total_counter = Counter()\n",
    "for i in genre_year_counter.values():\n",
    "    genre_total_counter.update(i)\n",
    "\n",
    "top_genres = [i[0] for i in genre_total_counter.most_common(5)]\n",
    "\n",
    "genre_year_counter = pd.DataFrame(genre_year_counter)\n",
    "genre_year_counter = genre_year_counter[genre_year_counter.index.isin(top_genres)]\n",
    "genre_year_counter = genre_year_counter.reindex(top_genres).astype(int)\n",
    "genre_year_counter = genre_year_counter.T"
   ]
  },
  {
   "cell_type": "code",
   "execution_count": null,
   "id": "af3874c3-8af2-4143-adca-5cab5155f8fb",
   "metadata": {},
   "outputs": [],
   "source": [
    "fig = go.Figure()\n",
    "\n",
    "for idx,row in genre_year_counter.iterrows():\n",
    "    fig.add_trace(go.Scatterpolar(\n",
    "      r=row,\n",
    "      theta=genre_year_counter.columns,\n",
    "      fill='toself',\n",
    "      name=idx\n",
    "    ))\n",
    "\n",
    "fig.update_layout(\n",
    "  polar=dict(\n",
    "    radialaxis=dict(\n",
    "      visible=True\n",
    "    )),\n",
    "  height=800,\n",
    "  title='Presence Of Your Top 5 Genres')\n",
    "\n",
    "fig.show()"
   ]
  }
 ],
 "metadata": {
  "kernelspec": {
   "display_name": "Python 3 (ipykernel)",
   "language": "python",
   "name": "python3"
  },
  "language_info": {
   "codemirror_mode": {
    "name": "ipython",
    "version": 3
   },
   "file_extension": ".py",
   "mimetype": "text/x-python",
   "name": "python",
   "nbconvert_exporter": "python",
   "pygments_lexer": "ipython3",
   "version": "3.8.13"
  }
 },
 "nbformat": 4,
 "nbformat_minor": 5
}
